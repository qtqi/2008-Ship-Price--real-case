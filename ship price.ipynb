{
 "cells": [
  {
   "cell_type": "code",
   "execution_count": 1,
   "metadata": {},
   "outputs": [],
   "source": [
    "import pandas as pd\n",
    "import numpy as np\n",
    "import matplotlib.pyplot as plt\n",
    "import datetime as dt\n",
    "import re\n",
    "import seaborn as sns"
   ]
  },
  {
   "cell_type": "code",
   "execution_count": 2,
   "metadata": {},
   "outputs": [
    {
     "data": {
      "text/html": [
       "<div>\n",
       "<style scoped>\n",
       "    .dataframe tbody tr th:only-of-type {\n",
       "        vertical-align: middle;\n",
       "    }\n",
       "\n",
       "    .dataframe tbody tr th {\n",
       "        vertical-align: top;\n",
       "    }\n",
       "\n",
       "    .dataframe thead th {\n",
       "        text-align: right;\n",
       "    }\n",
       "</style>\n",
       "<table border=\"1\" class=\"dataframe\">\n",
       "  <thead>\n",
       "    <tr style=\"text-align: right;\">\n",
       "      <th></th>\n",
       "      <th>ID</th>\n",
       "      <th>Sale_Date</th>\n",
       "      <th>Vessel_Name</th>\n",
       "      <th>Sale_Price</th>\n",
       "      <th>Year_Built</th>\n",
       "      <th>Sale_Years</th>\n",
       "      <th>Weight</th>\n",
       "      <th>Capesize</th>\n",
       "    </tr>\n",
       "  </thead>\n",
       "  <tbody>\n",
       "    <tr>\n",
       "      <th>0</th>\n",
       "      <td>1</td>\n",
       "      <td>Jan-07</td>\n",
       "      <td>Lowlands Beilun</td>\n",
       "      <td>73.0</td>\n",
       "      <td>1999</td>\n",
       "      <td>8</td>\n",
       "      <td>170.2</td>\n",
       "      <td>4647</td>\n",
       "    </tr>\n",
       "    <tr>\n",
       "      <th>1</th>\n",
       "      <td>2</td>\n",
       "      <td>Jan-07</td>\n",
       "      <td>CHS Moon</td>\n",
       "      <td>45.0</td>\n",
       "      <td>1991</td>\n",
       "      <td>16</td>\n",
       "      <td>150.2</td>\n",
       "      <td>4647</td>\n",
       "    </tr>\n",
       "    <tr>\n",
       "      <th>2</th>\n",
       "      <td>3</td>\n",
       "      <td>Jan-07</td>\n",
       "      <td>Spring Brave</td>\n",
       "      <td>62.0</td>\n",
       "      <td>1995</td>\n",
       "      <td>12</td>\n",
       "      <td>151.1</td>\n",
       "      <td>4647</td>\n",
       "    </tr>\n",
       "    <tr>\n",
       "      <th>3</th>\n",
       "      <td>4</td>\n",
       "      <td>Jan-07</td>\n",
       "      <td>Martha Verity</td>\n",
       "      <td>60.0</td>\n",
       "      <td>1995</td>\n",
       "      <td>12</td>\n",
       "      <td>158.0</td>\n",
       "      <td>4647</td>\n",
       "    </tr>\n",
       "    <tr>\n",
       "      <th>4</th>\n",
       "      <td>5</td>\n",
       "      <td>Jan-07</td>\n",
       "      <td>TMT TBN</td>\n",
       "      <td>61.3</td>\n",
       "      <td>1993</td>\n",
       "      <td>14</td>\n",
       "      <td>174.7</td>\n",
       "      <td>4647</td>\n",
       "    </tr>\n",
       "  </tbody>\n",
       "</table>\n",
       "</div>"
      ],
      "text/plain": [
       "   ID Sale_Date      Vessel_Name  Sale_Price  Year_Built  Sale_Years  Weight  \\\n",
       "0   1    Jan-07  Lowlands Beilun        73.0        1999           8   170.2   \n",
       "1   2    Jan-07         CHS Moon        45.0        1991          16   150.2   \n",
       "2   3    Jan-07     Spring Brave        62.0        1995          12   151.1   \n",
       "3   4    Jan-07    Martha Verity        60.0        1995          12   158.0   \n",
       "4   5    Jan-07          TMT TBN        61.3        1993          14   174.7   \n",
       "\n",
       "   Capesize  \n",
       "0      4647  \n",
       "1      4647  \n",
       "2      4647  \n",
       "3      4647  \n",
       "4      4647  "
      ]
     },
     "execution_count": 2,
     "metadata": {},
     "output_type": "execute_result"
    }
   ],
   "source": [
    "df=pd.read_csv('CaseData.csv',parse_dates=['Sale_Date'])\n",
    "df.head()"
   ]
  },
  {
   "cell_type": "code",
   "execution_count": 3,
   "metadata": {},
   "outputs": [
    {
     "data": {
      "text/plain": [
       "(48, 8)"
      ]
     },
     "execution_count": 3,
     "metadata": {},
     "output_type": "execute_result"
    }
   ],
   "source": [
    "df.shape"
   ]
  },
  {
   "cell_type": "code",
   "execution_count": 4,
   "metadata": {},
   "outputs": [],
   "source": [
    "df['Sale_Month']=df.Sale_Date.apply(lambda row: ''.join(re.findall(r\"\\D{3}\",row)))"
   ]
  },
  {
   "cell_type": "code",
   "execution_count": 5,
   "metadata": {},
   "outputs": [
    {
     "data": {
      "text/html": [
       "<div>\n",
       "<style scoped>\n",
       "    .dataframe tbody tr th:only-of-type {\n",
       "        vertical-align: middle;\n",
       "    }\n",
       "\n",
       "    .dataframe tbody tr th {\n",
       "        vertical-align: top;\n",
       "    }\n",
       "\n",
       "    .dataframe thead th {\n",
       "        text-align: right;\n",
       "    }\n",
       "</style>\n",
       "<table border=\"1\" class=\"dataframe\">\n",
       "  <thead>\n",
       "    <tr style=\"text-align: right;\">\n",
       "      <th></th>\n",
       "      <th>ID</th>\n",
       "      <th>Sale_Date</th>\n",
       "      <th>Vessel_Name</th>\n",
       "      <th>Sale_Price</th>\n",
       "      <th>Year_Built</th>\n",
       "      <th>Sale_Years</th>\n",
       "      <th>Weight</th>\n",
       "      <th>Capesize</th>\n",
       "      <th>Sale_Month</th>\n",
       "    </tr>\n",
       "  </thead>\n",
       "  <tbody>\n",
       "    <tr>\n",
       "      <th>0</th>\n",
       "      <td>1</td>\n",
       "      <td>Jan-07</td>\n",
       "      <td>Lowlands Beilun</td>\n",
       "      <td>73.0</td>\n",
       "      <td>1999</td>\n",
       "      <td>8</td>\n",
       "      <td>170.2</td>\n",
       "      <td>4647</td>\n",
       "      <td>Jan</td>\n",
       "    </tr>\n",
       "    <tr>\n",
       "      <th>1</th>\n",
       "      <td>2</td>\n",
       "      <td>Jan-07</td>\n",
       "      <td>CHS Moon</td>\n",
       "      <td>45.0</td>\n",
       "      <td>1991</td>\n",
       "      <td>16</td>\n",
       "      <td>150.2</td>\n",
       "      <td>4647</td>\n",
       "      <td>Jan</td>\n",
       "    </tr>\n",
       "    <tr>\n",
       "      <th>2</th>\n",
       "      <td>3</td>\n",
       "      <td>Jan-07</td>\n",
       "      <td>Spring Brave</td>\n",
       "      <td>62.0</td>\n",
       "      <td>1995</td>\n",
       "      <td>12</td>\n",
       "      <td>151.1</td>\n",
       "      <td>4647</td>\n",
       "      <td>Jan</td>\n",
       "    </tr>\n",
       "    <tr>\n",
       "      <th>3</th>\n",
       "      <td>4</td>\n",
       "      <td>Jan-07</td>\n",
       "      <td>Martha Verity</td>\n",
       "      <td>60.0</td>\n",
       "      <td>1995</td>\n",
       "      <td>12</td>\n",
       "      <td>158.0</td>\n",
       "      <td>4647</td>\n",
       "      <td>Jan</td>\n",
       "    </tr>\n",
       "    <tr>\n",
       "      <th>4</th>\n",
       "      <td>5</td>\n",
       "      <td>Jan-07</td>\n",
       "      <td>TMT TBN</td>\n",
       "      <td>61.3</td>\n",
       "      <td>1993</td>\n",
       "      <td>14</td>\n",
       "      <td>174.7</td>\n",
       "      <td>4647</td>\n",
       "      <td>Jan</td>\n",
       "    </tr>\n",
       "  </tbody>\n",
       "</table>\n",
       "</div>"
      ],
      "text/plain": [
       "   ID Sale_Date      Vessel_Name  Sale_Price  Year_Built  Sale_Years  Weight  \\\n",
       "0   1    Jan-07  Lowlands Beilun        73.0        1999           8   170.2   \n",
       "1   2    Jan-07         CHS Moon        45.0        1991          16   150.2   \n",
       "2   3    Jan-07     Spring Brave        62.0        1995          12   151.1   \n",
       "3   4    Jan-07    Martha Verity        60.0        1995          12   158.0   \n",
       "4   5    Jan-07          TMT TBN        61.3        1993          14   174.7   \n",
       "\n",
       "   Capesize Sale_Month  \n",
       "0      4647        Jan  \n",
       "1      4647        Jan  \n",
       "2      4647        Jan  \n",
       "3      4647        Jan  \n",
       "4      4647        Jan  "
      ]
     },
     "execution_count": 5,
     "metadata": {},
     "output_type": "execute_result"
    }
   ],
   "source": [
    "df.head()"
   ]
  },
  {
   "cell_type": "code",
   "execution_count": 7,
   "metadata": {},
   "outputs": [
    {
     "data": {
      "image/png": "[encoded data removed]",
      "text/plain": [
       "<Figure size 432x288 with 1 Axes>"
      ]
     },
     "metadata": {
      "needs_background": "light"
     },
     "output_type": "display_data"
    }
   ],
   "source": [
    "sns.scatterplot(data=df,x='Weight',y='Sale_Price',hue='Sale_Month')\n",
    "plt.show()"
   ]
  },
  {
   "cell_type": "code",
   "execution_count": 8,
   "metadata": {},
   "outputs": [
    {
     "data": {
      "image/png": "[encoded data removed]",
      "text/plain": [
       "<Figure size 432x288 with 1 Axes>"
      ]
     },
     "metadata": {
      "needs_background": "light"
     },
     "output_type": "display_data"
    }
   ],
   "source": [
    "sns.scatterplot(data=df,x='Capesize',y='Sale_Price',hue='Sale_Month')\n",
    "plt.show()"
   ]
  },
  {
   "cell_type": "code",
   "execution_count": 9,
   "metadata": {},
   "outputs": [
    {
     "data": {
      "image/png": "[encoded data removed]",
      "text/plain": [
       "<Figure size 432x288 with 1 Axes>"
      ]
     },
     "metadata": {
      "needs_background": "light"
     },
     "output_type": "display_data"
    }
   ],
   "source": [
    "sns.scatterplot(data=df,x='Sale_Years',y='Sale_Price',hue='Sale_Month')\n",
    "plt.show()"
   ]
  },
  {
   "cell_type": "code",
   "execution_count": 6,
   "metadata": {},
   "outputs": [
    {
     "data": {
      "text/html": [
       "<div>\n",
       "<style scoped>\n",
       "    .dataframe tbody tr th:only-of-type {\n",
       "        vertical-align: middle;\n",
       "    }\n",
       "\n",
       "    .dataframe tbody tr th {\n",
       "        vertical-align: top;\n",
       "    }\n",
       "\n",
       "    .dataframe thead th {\n",
       "        text-align: right;\n",
       "    }\n",
       "</style>\n",
       "<table border=\"1\" class=\"dataframe\">\n",
       "  <thead>\n",
       "    <tr style=\"text-align: right;\">\n",
       "      <th></th>\n",
       "      <th>Sale_Price</th>\n",
       "      <th>Year_Built</th>\n",
       "      <th>Sale_Years</th>\n",
       "      <th>Weight</th>\n",
       "      <th>Capesize</th>\n",
       "      <th>Sale_Month</th>\n",
       "    </tr>\n",
       "  </thead>\n",
       "  <tbody>\n",
       "    <tr>\n",
       "      <th>0</th>\n",
       "      <td>73.0</td>\n",
       "      <td>1999</td>\n",
       "      <td>8</td>\n",
       "      <td>170.2</td>\n",
       "      <td>4647</td>\n",
       "      <td>Jan</td>\n",
       "    </tr>\n",
       "    <tr>\n",
       "      <th>1</th>\n",
       "      <td>45.0</td>\n",
       "      <td>1991</td>\n",
       "      <td>16</td>\n",
       "      <td>150.2</td>\n",
       "      <td>4647</td>\n",
       "      <td>Jan</td>\n",
       "    </tr>\n",
       "    <tr>\n",
       "      <th>2</th>\n",
       "      <td>62.0</td>\n",
       "      <td>1995</td>\n",
       "      <td>12</td>\n",
       "      <td>151.1</td>\n",
       "      <td>4647</td>\n",
       "      <td>Jan</td>\n",
       "    </tr>\n",
       "    <tr>\n",
       "      <th>3</th>\n",
       "      <td>60.0</td>\n",
       "      <td>1995</td>\n",
       "      <td>12</td>\n",
       "      <td>158.0</td>\n",
       "      <td>4647</td>\n",
       "      <td>Jan</td>\n",
       "    </tr>\n",
       "    <tr>\n",
       "      <th>4</th>\n",
       "      <td>61.3</td>\n",
       "      <td>1993</td>\n",
       "      <td>14</td>\n",
       "      <td>174.7</td>\n",
       "      <td>4647</td>\n",
       "      <td>Jan</td>\n",
       "    </tr>\n",
       "  </tbody>\n",
       "</table>\n",
       "</div>"
      ],
      "text/plain": [
       "   Sale_Price  Year_Built  Sale_Years  Weight  Capesize Sale_Month\n",
       "0        73.0        1999           8   170.2      4647        Jan\n",
       "1        45.0        1991          16   150.2      4647        Jan\n",
       "2        62.0        1995          12   151.1      4647        Jan\n",
       "3        60.0        1995          12   158.0      4647        Jan\n",
       "4        61.3        1993          14   174.7      4647        Jan"
      ]
     },
     "execution_count": 6,
     "metadata": {},
     "output_type": "execute_result"
    }
   ],
   "source": [
    "df_new=df.drop(['ID','Sale_Date','Vessel_Name'],axis=1)\n",
    "df_new.head()"
   ]
  },
  {
   "cell_type": "markdown",
   "metadata": {},
   "source": [
    "## resample"
   ]
  },
  {
   "cell_type": "code",
   "execution_count": 7,
   "metadata": {},
   "outputs": [
    {
     "data": {
      "text/html": [
       "<div>\n",
       "<style scoped>\n",
       "    .dataframe tbody tr th:only-of-type {\n",
       "        vertical-align: middle;\n",
       "    }\n",
       "\n",
       "    .dataframe tbody tr th {\n",
       "        vertical-align: top;\n",
       "    }\n",
       "\n",
       "    .dataframe thead th {\n",
       "        text-align: right;\n",
       "    }\n",
       "</style>\n",
       "<table border=\"1\" class=\"dataframe\">\n",
       "  <thead>\n",
       "    <tr style=\"text-align: right;\">\n",
       "      <th></th>\n",
       "      <th>Sale_Price</th>\n",
       "      <th>Year_Built</th>\n",
       "      <th>Sale_Years</th>\n",
       "      <th>Weight</th>\n",
       "      <th>Capesize</th>\n",
       "    </tr>\n",
       "  </thead>\n",
       "  <tbody>\n",
       "    <tr>\n",
       "      <th>0</th>\n",
       "      <td>73.0</td>\n",
       "      <td>1999</td>\n",
       "      <td>8</td>\n",
       "      <td>170.2</td>\n",
       "      <td>4647</td>\n",
       "    </tr>\n",
       "    <tr>\n",
       "      <th>1</th>\n",
       "      <td>45.0</td>\n",
       "      <td>1991</td>\n",
       "      <td>16</td>\n",
       "      <td>150.2</td>\n",
       "      <td>4647</td>\n",
       "    </tr>\n",
       "    <tr>\n",
       "      <th>2</th>\n",
       "      <td>62.0</td>\n",
       "      <td>1995</td>\n",
       "      <td>12</td>\n",
       "      <td>151.1</td>\n",
       "      <td>4647</td>\n",
       "    </tr>\n",
       "    <tr>\n",
       "      <th>3</th>\n",
       "      <td>60.0</td>\n",
       "      <td>1995</td>\n",
       "      <td>12</td>\n",
       "      <td>158.0</td>\n",
       "      <td>4647</td>\n",
       "    </tr>\n",
       "    <tr>\n",
       "      <th>4</th>\n",
       "      <td>61.3</td>\n",
       "      <td>1993</td>\n",
       "      <td>14</td>\n",
       "      <td>174.7</td>\n",
       "      <td>4647</td>\n",
       "    </tr>\n",
       "  </tbody>\n",
       "</table>\n",
       "</div>"
      ],
      "text/plain": [
       "   Sale_Price  Year_Built  Sale_Years  Weight  Capesize\n",
       "0        73.0        1999           8   170.2      4647\n",
       "1        45.0        1991          16   150.2      4647\n",
       "2        62.0        1995          12   151.1      4647\n",
       "3        60.0        1995          12   158.0      4647\n",
       "4        61.3        1993          14   174.7      4647"
      ]
     },
     "execution_count": 7,
     "metadata": {},
     "output_type": "execute_result"
    }
   ],
   "source": [
    "df_boost=df_new.drop(['Sale_Month'],axis=1)\n",
    "df_boost.head()"
   ]
  },
  {
   "cell_type": "code",
   "execution_count": 8,
   "metadata": {},
   "outputs": [],
   "source": [
    "sims,data_size,means = 1000,df_boost.shape[0],[]\n",
    "for i in range(sims):\n",
    "    dup_df=df_boost.sample(n=data_size,replace=True)\n",
    "    means.append(list(dup_df.mean()))"
   ]
  },
  {
   "cell_type": "code",
   "execution_count": 9,
   "metadata": {},
   "outputs": [],
   "source": [
    "sample_boost=pd.DataFrame(means,columns=df_boost.columns)"
   ]
  },
  {
   "cell_type": "code",
   "execution_count": 10,
   "metadata": {},
   "outputs": [],
   "source": [
    "sample_boost['Year_Built']=sample_boost['Year_Built'].round(0).astype('int')"
   ]
  },
  {
   "cell_type": "code",
   "execution_count": 11,
   "metadata": {},
   "outputs": [],
   "source": [
    "sample_boost['Sale_Years']=sample_boost['Sale_Years'].round(0).astype('int')"
   ]
  },
  {
   "cell_type": "code",
   "execution_count": 12,
   "metadata": {},
   "outputs": [
    {
     "data": {
      "text/html": [
       "<div>\n",
       "<style scoped>\n",
       "    .dataframe tbody tr th:only-of-type {\n",
       "        vertical-align: middle;\n",
       "    }\n",
       "\n",
       "    .dataframe tbody tr th {\n",
       "        vertical-align: top;\n",
       "    }\n",
       "\n",
       "    .dataframe thead th {\n",
       "        text-align: right;\n",
       "    }\n",
       "</style>\n",
       "<table border=\"1\" class=\"dataframe\">\n",
       "  <thead>\n",
       "    <tr style=\"text-align: right;\">\n",
       "      <th></th>\n",
       "      <th>Sale_Price</th>\n",
       "      <th>Year_Built</th>\n",
       "      <th>Sale_Years</th>\n",
       "      <th>Weight</th>\n",
       "      <th>Capesize</th>\n",
       "    </tr>\n",
       "  </thead>\n",
       "  <tbody>\n",
       "    <tr>\n",
       "      <th>0</th>\n",
       "      <td>71.275000</td>\n",
       "      <td>1993</td>\n",
       "      <td>15</td>\n",
       "      <td>160.650000</td>\n",
       "      <td>7639.291667</td>\n",
       "    </tr>\n",
       "    <tr>\n",
       "      <th>1</th>\n",
       "      <td>76.758333</td>\n",
       "      <td>1992</td>\n",
       "      <td>15</td>\n",
       "      <td>160.516667</td>\n",
       "      <td>8147.833333</td>\n",
       "    </tr>\n",
       "    <tr>\n",
       "      <th>2</th>\n",
       "      <td>81.231250</td>\n",
       "      <td>1993</td>\n",
       "      <td>14</td>\n",
       "      <td>161.352083</td>\n",
       "      <td>8053.895833</td>\n",
       "    </tr>\n",
       "    <tr>\n",
       "      <th>3</th>\n",
       "      <td>77.566667</td>\n",
       "      <td>1994</td>\n",
       "      <td>13</td>\n",
       "      <td>158.587500</td>\n",
       "      <td>7619.812500</td>\n",
       "    </tr>\n",
       "    <tr>\n",
       "      <th>4</th>\n",
       "      <td>70.104167</td>\n",
       "      <td>1992</td>\n",
       "      <td>15</td>\n",
       "      <td>154.768750</td>\n",
       "      <td>7637.437500</td>\n",
       "    </tr>\n",
       "    <tr>\n",
       "      <th>...</th>\n",
       "      <td>...</td>\n",
       "      <td>...</td>\n",
       "      <td>...</td>\n",
       "      <td>...</td>\n",
       "      <td>...</td>\n",
       "    </tr>\n",
       "    <tr>\n",
       "      <th>995</th>\n",
       "      <td>72.291667</td>\n",
       "      <td>1992</td>\n",
       "      <td>15</td>\n",
       "      <td>158.264583</td>\n",
       "      <td>7880.375000</td>\n",
       "    </tr>\n",
       "    <tr>\n",
       "      <th>996</th>\n",
       "      <td>68.850000</td>\n",
       "      <td>1993</td>\n",
       "      <td>14</td>\n",
       "      <td>161.827083</td>\n",
       "      <td>7309.333333</td>\n",
       "    </tr>\n",
       "    <tr>\n",
       "      <th>997</th>\n",
       "      <td>73.737500</td>\n",
       "      <td>1994</td>\n",
       "      <td>14</td>\n",
       "      <td>160.758333</td>\n",
       "      <td>7330.229167</td>\n",
       "    </tr>\n",
       "    <tr>\n",
       "      <th>998</th>\n",
       "      <td>85.566667</td>\n",
       "      <td>1994</td>\n",
       "      <td>13</td>\n",
       "      <td>162.902083</td>\n",
       "      <td>8203.729167</td>\n",
       "    </tr>\n",
       "    <tr>\n",
       "      <th>999</th>\n",
       "      <td>71.358333</td>\n",
       "      <td>1992</td>\n",
       "      <td>15</td>\n",
       "      <td>160.379167</td>\n",
       "      <td>8226.645833</td>\n",
       "    </tr>\n",
       "  </tbody>\n",
       "</table>\n",
       "<p>1000 rows × 5 columns</p>\n",
       "</div>"
      ],
      "text/plain": [
       "     Sale_Price  Year_Built  Sale_Years      Weight     Capesize\n",
       "0     71.275000        1993          15  160.650000  7639.291667\n",
       "1     76.758333        1992          15  160.516667  8147.833333\n",
       "2     81.231250        1993          14  161.352083  8053.895833\n",
       "3     77.566667        1994          13  158.587500  7619.812500\n",
       "4     70.104167        1992          15  154.768750  7637.437500\n",
       "..          ...         ...         ...         ...          ...\n",
       "995   72.291667        1992          15  158.264583  7880.375000\n",
       "996   68.850000        1993          14  161.827083  7309.333333\n",
       "997   73.737500        1994          14  160.758333  7330.229167\n",
       "998   85.566667        1994          13  162.902083  8203.729167\n",
       "999   71.358333        1992          15  160.379167  8226.645833\n",
       "\n",
       "[1000 rows x 5 columns]"
      ]
     },
     "execution_count": 12,
     "metadata": {},
     "output_type": "execute_result"
    }
   ],
   "source": [
    "# no duplicates\n",
    "sample_boost.drop_duplicates()"
   ]
  },
  {
   "cell_type": "code",
   "execution_count": 17,
   "metadata": {},
   "outputs": [
    {
     "data": {
      "image/png": "[encoded data removed]",
      "text/plain": [
       "<Figure size 720x720 with 25 Axes>"
      ]
     },
     "metadata": {
      "needs_background": "light"
     },
     "output_type": "display_data"
    }
   ],
   "source": [
    "pd.plotting.scatter_matrix(sample_boost, \n",
    "                           s=150,marker='D',figsize=(10,10))\n",
    "plt.show()"
   ]
  },
  {
   "cell_type": "code",
   "execution_count": 13,
   "metadata": {},
   "outputs": [
    {
     "data": {
      "text/html": [
       "<div>\n",
       "<style scoped>\n",
       "    .dataframe tbody tr th:only-of-type {\n",
       "        vertical-align: middle;\n",
       "    }\n",
       "\n",
       "    .dataframe tbody tr th {\n",
       "        vertical-align: top;\n",
       "    }\n",
       "\n",
       "    .dataframe thead th {\n",
       "        text-align: right;\n",
       "    }\n",
       "</style>\n",
       "<table border=\"1\" class=\"dataframe\">\n",
       "  <thead>\n",
       "    <tr style=\"text-align: right;\">\n",
       "      <th></th>\n",
       "      <th>Sale_Price</th>\n",
       "      <th>Sale_Years</th>\n",
       "      <th>Weight</th>\n",
       "      <th>Capesize</th>\n",
       "    </tr>\n",
       "  </thead>\n",
       "  <tbody>\n",
       "    <tr>\n",
       "      <th>0</th>\n",
       "      <td>71.275000</td>\n",
       "      <td>15</td>\n",
       "      <td>160.650000</td>\n",
       "      <td>7639.291667</td>\n",
       "    </tr>\n",
       "    <tr>\n",
       "      <th>1</th>\n",
       "      <td>76.758333</td>\n",
       "      <td>15</td>\n",
       "      <td>160.516667</td>\n",
       "      <td>8147.833333</td>\n",
       "    </tr>\n",
       "    <tr>\n",
       "      <th>2</th>\n",
       "      <td>81.231250</td>\n",
       "      <td>14</td>\n",
       "      <td>161.352083</td>\n",
       "      <td>8053.895833</td>\n",
       "    </tr>\n",
       "    <tr>\n",
       "      <th>3</th>\n",
       "      <td>77.566667</td>\n",
       "      <td>13</td>\n",
       "      <td>158.587500</td>\n",
       "      <td>7619.812500</td>\n",
       "    </tr>\n",
       "    <tr>\n",
       "      <th>4</th>\n",
       "      <td>70.104167</td>\n",
       "      <td>15</td>\n",
       "      <td>154.768750</td>\n",
       "      <td>7637.437500</td>\n",
       "    </tr>\n",
       "  </tbody>\n",
       "</table>\n",
       "</div>"
      ],
      "text/plain": [
       "   Sale_Price  Sale_Years      Weight     Capesize\n",
       "0   71.275000          15  160.650000  7639.291667\n",
       "1   76.758333          15  160.516667  8147.833333\n",
       "2   81.231250          14  161.352083  8053.895833\n",
       "3   77.566667          13  158.587500  7619.812500\n",
       "4   70.104167          15  154.768750  7637.437500"
      ]
     },
     "execution_count": 13,
     "metadata": {},
     "output_type": "execute_result"
    }
   ],
   "source": [
    "new_boost=sample_boost.drop('Year_Built',axis=1)\n",
    "new_boost.head()"
   ]
  },
  {
   "cell_type": "markdown",
   "metadata": {},
   "source": [
    "## Modeling- Linear Regression"
   ]
  },
  {
   "cell_type": "code",
   "execution_count": 33,
   "metadata": {},
   "outputs": [],
   "source": [
    "from sklearn.preprocessing import StandardScaler\n",
    "from sklearn.linear_model import ElasticNet\n",
    "from sklearn.linear_model import Ridge\n",
    "from sklearn.linear_model import Lasso\n",
    "from sklearn.pipeline import Pipeline\n",
    "from sklearn.model_selection import train_test_split\n",
    "from sklearn.model_selection import GridSearchCV\n",
    "from sklearn.metrics import mean_squared_error\n",
    "from sklearn.metrics import mean_absolute_error\n",
    "from sklearn.metrics import max_error"
   ]
  },
  {
   "cell_type": "markdown",
   "metadata": {},
   "source": [
    "### train & test"
   ]
  },
  {
   "cell_type": "code",
   "execution_count": 14,
   "metadata": {},
   "outputs": [],
   "source": [
    "y_train=new_boost.Sale_Price\n",
    "X_train=new_boost.drop('Sale_Price',axis=1)"
   ]
  },
  {
   "cell_type": "code",
   "execution_count": 15,
   "metadata": {},
   "outputs": [],
   "source": [
    "X_test,y_test=df_boost.drop(['Sale_Price','Year_Built'],axis=1),df_boost.Sale_Price"
   ]
  },
  {
   "cell_type": "markdown",
   "metadata": {},
   "source": [
    "### elasticnet"
   ]
  },
  {
   "cell_type": "code",
   "execution_count": 41,
   "metadata": {},
   "outputs": [],
   "source": [
    "steps=[('scaler',StandardScaler()),('elasticnet',ElasticNet())]"
   ]
  },
  {
   "cell_type": "code",
   "execution_count": 42,
   "metadata": {},
   "outputs": [],
   "source": [
    "pipeline=Pipeline(steps)"
   ]
  },
  {
   "cell_type": "code",
   "execution_count": 43,
   "metadata": {},
   "outputs": [],
   "source": [
    "parameters={'elasticnet__l1_ratio':np.linspace(0,1,30)}"
   ]
  },
  {
   "cell_type": "code",
   "execution_count": 45,
   "metadata": {},
   "outputs": [],
   "source": [
    "grid_ela=GridSearchCV(pipeline,parameters,cv=10)"
   ]
  },
  {
   "cell_type": "code",
   "execution_count": 47,
   "metadata": {},
   "outputs": [
    {
     "name": "stderr",
     "output_type": "stream",
     "text": [
      "/Users/qiqintian/opt/anaconda3/lib/python3.7/site-packages/sklearn/linear_model/_coordinate_descent.py:531: ConvergenceWarning: Objective did not converge. You might want to increase the number of iterations. Duality gap: 5969.001128699474, tolerance: 2.1138312217226076\n",
      "  positive)\n",
      "/Users/qiqintian/opt/anaconda3/lib/python3.7/site-packages/sklearn/linear_model/_coordinate_descent.py:531: ConvergenceWarning: Objective did not converge. You might want to increase the number of iterations. Duality gap: 5942.520943958752, tolerance: 2.0806965078125\n",
      "  positive)\n",
      "/Users/qiqintian/opt/anaconda3/lib/python3.7/site-packages/sklearn/linear_model/_coordinate_descent.py:531: ConvergenceWarning: Objective did not converge. You might want to increase the number of iterations. Duality gap: 5880.3956361091505, tolerance: 2.05178695171441\n",
      "  positive)\n",
      "/Users/qiqintian/opt/anaconda3/lib/python3.7/site-packages/sklearn/linear_model/_coordinate_descent.py:531: ConvergenceWarning: Objective did not converge. You might want to increase the number of iterations. Duality gap: 5888.6595219748815, tolerance: 2.0567538395061726\n",
      "  positive)\n",
      "/Users/qiqintian/opt/anaconda3/lib/python3.7/site-packages/sklearn/linear_model/_coordinate_descent.py:531: ConvergenceWarning: Objective did not converge. You might want to increase the number of iterations. Duality gap: 5902.514766967568, tolerance: 2.0873984280304776\n",
      "  positive)\n",
      "/Users/qiqintian/opt/anaconda3/lib/python3.7/site-packages/sklearn/linear_model/_coordinate_descent.py:531: ConvergenceWarning: Objective did not converge. You might want to increase the number of iterations. Duality gap: 5870.273187951234, tolerance: 2.069992266625675\n",
      "  positive)\n"
     ]
    }
   ],
   "source": [
    "grid_ela.fit(X_train,y_train)\n",
    "r2=grid_ela.best_estimator_.score(X_test,y_test)"
   ]
  },
  {
   "cell_type": "code",
   "execution_count": 49,
   "metadata": {},
   "outputs": [
    {
     "name": "stdout",
     "output_type": "stream",
     "text": [
      "Tuned Elasticnet R squared:0.7672949714831702\n"
     ]
    }
   ],
   "source": [
    "print('Tuned Elasticnet R squared:{}'.format(r2))"
   ]
  },
  {
   "cell_type": "code",
   "execution_count": 51,
   "metadata": {},
   "outputs": [
    {
     "data": {
      "text/plain": [
       "{'elasticnet__l1_ratio': 1.0}"
      ]
     },
     "execution_count": 51,
     "metadata": {},
     "output_type": "execute_result"
    }
   ],
   "source": [
    "grid_ela.best_params_"
   ]
  },
  {
   "cell_type": "code",
   "execution_count": 54,
   "metadata": {},
   "outputs": [
    {
     "data": {
      "text/plain": [
       "12.175843992500353"
      ]
     },
     "execution_count": 54,
     "metadata": {},
     "output_type": "execute_result"
    }
   ],
   "source": [
    "y_pred=grid_ela.best_estimator_.predict(X_test)\n",
    "mean_absolute_error(y_test,y_pred)"
   ]
  },
  {
   "cell_type": "markdown",
   "metadata": {},
   "source": [
    "### Ridge"
   ]
  },
  {
   "cell_type": "code",
   "execution_count": 56,
   "metadata": {},
   "outputs": [],
   "source": [
    "steps=[('scaler',StandardScaler()),('ridge',Ridge())]\n",
    "pipeline=Pipeline(steps)\n",
    "parameters={'ridge__alpha':np.logspace(-10, -2, 50)}\n",
    "\n",
    "grid_lasso=GridSearchCV(pipeline,parameters,cv=10)\n",
    "grid_lasso.fit(X,y)\n",
    "r2=grid_lasso.best_estimator_.score(X_test,y_test)"
   ]
  },
  {
   "cell_type": "code",
   "execution_count": 57,
   "metadata": {},
   "outputs": [
    {
     "name": "stdout",
     "output_type": "stream",
     "text": [
      "Tuned Lasso R squared:0.9147984184868312\n"
     ]
    }
   ],
   "source": [
    "print('Tuned Lasso R squared:{}'.format(r2))"
   ]
  },
  {
   "cell_type": "code",
   "execution_count": 59,
   "metadata": {},
   "outputs": [
    {
     "name": "stdout",
     "output_type": "stream",
     "text": [
      "Tuned L2_Ratio:{'ridge__alpha': 1e-10}\n"
     ]
    }
   ],
   "source": [
    "print('Tuned L2_Ratio:{}'.format(grid_lasso.best_params_))"
   ]
  },
  {
   "cell_type": "code",
   "execution_count": 60,
   "metadata": {},
   "outputs": [],
   "source": [
    "y_pred=grid_lasso.best_estimator_.predict(X_test)"
   ]
  },
  {
   "cell_type": "code",
   "execution_count": 61,
   "metadata": {},
   "outputs": [
    {
     "data": {
      "text/plain": [
       "6.822350752732277"
      ]
     },
     "execution_count": 61,
     "metadata": {},
     "output_type": "execute_result"
    }
   ],
   "source": [
    "mean_absolute_error(y_test,y_pred)"
   ]
  },
  {
   "cell_type": "code",
   "execution_count": 63,
   "metadata": {},
   "outputs": [
    {
     "data": {
      "image/png": "[encoded data removed]",
      "text/plain": [
       "<Figure size 360x360 with 1 Axes>"
      ]
     },
     "metadata": {
      "needs_background": "light"
     },
     "output_type": "display_data"
    }
   ],
   "source": [
    "summary=pd.DataFrame({'proportion':(y_pred-y_test)/y_test,'Month':df.Sale_Month})\n",
    "Month_val={'Jan':1,'Feb':2,'Mar':3,'Apr':4,'May':5,'Jun':6,'Jul':7,'Aug':8,'Sep':9,'Oct':10,'Nov':11,'Dec':12}\n",
    "summary.Month=summary.Month.map(Month_val)\n",
    "sns.relplot(y='proportion',x='Month',kind='line',data=summary,markers=True)\n",
    "plt.show()"
   ]
  },
  {
   "cell_type": "markdown",
   "metadata": {},
   "source": [
    "### Regression Tree"
   ]
  },
  {
   "cell_type": "code",
   "execution_count": 64,
   "metadata": {},
   "outputs": [],
   "source": [
    "# Import DecisionTreeRegressor from sklearn.tree\n",
    "from sklearn.tree import DecisionTreeRegressor\n",
    "from sklearn.ensemble import RandomForestRegressor\n",
    "from sklearn.ensemble import AdaBoostRegressor\n",
    "from sklearn.ensemble import GradientBoostingRegressor \n",
    "from sklearn.model_selection import GridSearchCV"
   ]
  },
  {
   "cell_type": "code",
   "execution_count": 74,
   "metadata": {},
   "outputs": [],
   "source": [
    "dt = DecisionTreeRegressor()\n",
    "# Define params_dt\n",
    "params_dt = {'max_depth':[1,2,3],\n",
    "             'min_samples_leaf':[0.15,0.20,0.25,0.30]}\n",
    "# Instantiate grid_dt\n",
    "grid_dt = GridSearchCV(estimator=dt,\n",
    "                       param_grid=params_dt,\n",
    "                       scoring='neg_mean_squared_error',\n",
    "                       cv=5,\n",
    "                       n_jobs=-1)"
   ]
  },
  {
   "cell_type": "code",
   "execution_count": 75,
   "metadata": {},
   "outputs": [
    {
     "data": {
      "text/plain": [
       "GridSearchCV(cv=5, estimator=DecisionTreeRegressor(), n_jobs=-1,\n",
       "             param_grid={'max_depth': [1, 2, 3],\n",
       "                         'min_samples_leaf': [0.15, 0.2, 0.25, 0.3]},\n",
       "             scoring='neg_mean_squared_error')"
      ]
     },
     "execution_count": 75,
     "metadata": {},
     "output_type": "execute_result"
    }
   ],
   "source": [
    "grid_dt.fit(X_train,y_train)"
   ]
  },
  {
   "cell_type": "code",
   "execution_count": 76,
   "metadata": {},
   "outputs": [
    {
     "name": "stdout",
     "output_type": "stream",
     "text": [
      "Tuned Lasso R squared:0.1474451569132711\n"
     ]
    }
   ],
   "source": [
    "r2=grid_dt.best_estimator_.score(X_test,y_test)\n",
    "print('Tuned Lasso R squared:{}'.format(r2))"
   ]
  },
  {
   "cell_type": "code",
   "execution_count": 78,
   "metadata": {},
   "outputs": [
    {
     "name": "stdout",
     "output_type": "stream",
     "text": [
      "25.128526335329173\n"
     ]
    }
   ],
   "source": [
    "y_pred=grid_dt.best_estimator_.predict(X_test)\n",
    "print(mean_absolute_error(y_test,y_pred))"
   ]
  },
  {
   "cell_type": "markdown",
   "metadata": {},
   "source": [
    "### Random Forest Regression"
   ]
  },
  {
   "cell_type": "code",
   "execution_count": 79,
   "metadata": {},
   "outputs": [],
   "source": [
    "# Instantiate rf\n",
    "rf = RandomForestRegressor(oob_score=True)\n",
    "# Define the dictionary 'params_rf'\n",
    "params_rf = {'n_estimators':[100,350,500],\n",
    "             'max_depth':[1,2,3,4]}\n",
    "# Instantiate grid_rf\n",
    "grid_rf = GridSearchCV(estimator=rf,\n",
    "                       param_grid=params_rf,\n",
    "                       scoring='neg_mean_squared_error',  \n",
    "                       cv=5,\n",
    "                       verbose=1,\n",
    "                       n_jobs=-1)"
   ]
  },
  {
   "cell_type": "code",
   "execution_count": 143,
   "metadata": {},
   "outputs": [
    {
     "name": "stdout",
     "output_type": "stream",
     "text": [
      "Fitting 5 folds for each of 9 candidates, totalling 45 fits\n"
     ]
    },
    {
     "name": "stderr",
     "output_type": "stream",
     "text": [
      "[Parallel(n_jobs=-1)]: Using backend LokyBackend with 4 concurrent workers.\n",
      "[Parallel(n_jobs=-1)]: Done  45 out of  45 | elapsed:   17.6s finished\n"
     ]
    },
    {
     "name": "stdout",
     "output_type": "stream",
     "text": [
      "Tuned rf R squared:0.24078918866607046\n"
     ]
    }
   ],
   "source": [
    "grid_rf.fit(X_train,y_train)\n",
    "r2=grid_rf.best_estimator_.score(X_test,y_test)\n",
    "print('Tuned rf R squared:{}'.format(r2))"
   ]
  },
  {
   "cell_type": "markdown",
   "metadata": {},
   "source": [
    "### Random Forest - Original data"
   ]
  },
  {
   "cell_type": "code",
   "execution_count": 31,
   "metadata": {},
   "outputs": [],
   "source": [
    "y=df_new.Sale_Price\n",
    "X=df_new.drop(['Sale_Price','Year_Built'],axis=1)\n",
    "X_dummy=pd.get_dummies(data=X,columns=['Sale_Month'],drop_first=True)"
   ]
  },
  {
   "cell_type": "code",
   "execution_count": 34,
   "metadata": {},
   "outputs": [],
   "source": [
    "# split train & test\n",
    "X_train_new,X_test_new,y_train_new,y_test_new=train_test_split(X_dummy,y,test_size=0.2,random_state=123)"
   ]
  },
  {
   "cell_type": "markdown",
   "metadata": {},
   "source": [
    "### XGBoosting"
   ]
  },
  {
   "cell_type": "code",
   "execution_count": 141,
   "metadata": {},
   "outputs": [],
   "source": [
    "# Import necessary modules\n",
    "from sklearn.feature_extraction import DictVectorizer\n",
    "from sklearn.pipeline import Pipeline\n",
    "import xgboost as xgb"
   ]
  },
  {
   "cell_type": "code",
   "execution_count": 188,
   "metadata": {},
   "outputs": [],
   "source": [
    "# Create the parameter grid: gbm_param_grid\n",
    "gbm_param_grid = {'n_estimators': [50,100,150],\n",
    "                  'max_depth': [2,3,4],\n",
    "                  'learning_rate':[0.05,0.1],\n",
    "                  'lambda':[1,10,50]}\n",
    "\n",
    "# Instantiate the regressor: gbm\n",
    "gbm = xgb.XGBRegressor()\n",
    "\n",
    "# Perform grid search: grid_mse\n",
    "grid_mse = GridSearchCV(estimator=gbm,param_grid=gbm_param_grid,\n",
    "            cv=5,verbose=0,scoring='neg_mean_squared_error').fit(X_train,y_train)"
   ]
  },
  {
   "cell_type": "code",
   "execution_count": 189,
   "metadata": {},
   "outputs": [
    {
     "data": {
      "text/plain": [
       "{'lambda': 10, 'learning_rate': 0.1, 'max_depth': 2, 'n_estimators': 150}"
      ]
     },
     "execution_count": 189,
     "metadata": {},
     "output_type": "execute_result"
    }
   ],
   "source": [
    "grid_mse.best_params_"
   ]
  },
  {
   "cell_type": "code",
   "execution_count": 190,
   "metadata": {},
   "outputs": [
    {
     "name": "stdout",
     "output_type": "stream",
     "text": [
      "Tuned xgb R squared:0.3793175960908066\n"
     ]
    }
   ],
   "source": [
    "r2=grid_mse.best_estimator_.score(X_test,y_test)\n",
    "print('Tuned xgb R squared:{}'.format(r2))"
   ]
  },
  {
   "cell_type": "markdown",
   "metadata": {},
   "source": [
    "### XGBoosting- Original Data"
   ]
  },
  {
   "cell_type": "code",
   "execution_count": 32,
   "metadata": {},
   "outputs": [
    {
     "ename": "NameError",
     "evalue": "name 'train_test_split' is not defined",
     "output_type": "error",
     "traceback": [
      "\u001b[0;31m---------------------------------------------------------------------------\u001b[0m",
      "\u001b[0;31mNameError\u001b[0m                                 Traceback (most recent call last)",
      "\u001b[0;32m<ipython-input-32-3c654eea9c61>\u001b[0m in \u001b[0;36m<module>\u001b[0;34m\u001b[0m\n\u001b[1;32m      1\u001b[0m \u001b[0;31m# split train & test\u001b[0m\u001b[0;34m\u001b[0m\u001b[0;34m\u001b[0m\u001b[0;34m\u001b[0m\u001b[0m\n\u001b[0;32m----> 2\u001b[0;31m \u001b[0mX_train_new\u001b[0m\u001b[0;34m,\u001b[0m\u001b[0mX_test_new\u001b[0m\u001b[0;34m,\u001b[0m\u001b[0my_train_new\u001b[0m\u001b[0;34m,\u001b[0m\u001b[0my_test_new\u001b[0m\u001b[0;34m=\u001b[0m\u001b[0mtrain_test_split\u001b[0m\u001b[0;34m(\u001b[0m\u001b[0mX_dummy\u001b[0m\u001b[0;34m,\u001b[0m\u001b[0my\u001b[0m\u001b[0;34m,\u001b[0m\u001b[0mtest_size\u001b[0m\u001b[0;34m=\u001b[0m\u001b[0;36m0.2\u001b[0m\u001b[0;34m,\u001b[0m\u001b[0mrandom_state\u001b[0m\u001b[0;34m=\u001b[0m\u001b[0;36m123\u001b[0m\u001b[0;34m)\u001b[0m\u001b[0;34m\u001b[0m\u001b[0;34m\u001b[0m\u001b[0m\n\u001b[0m",
      "\u001b[0;31mNameError\u001b[0m: name 'train_test_split' is not defined"
     ]
    }
   ],
   "source": [
    "# split train & test\n",
    "X_train_new,X_test_new,y_train_new,y_test_new=train_test_split(X_dummy,y,test_size=0.2,random_state=123)"
   ]
  },
  {
   "cell_type": "code",
   "execution_count": 170,
   "metadata": {},
   "outputs": [],
   "source": [
    "# Perform grid search: grid_mse\n",
    "grid_xgb = GridSearchCV(estimator=gbm,param_grid=gbm_param_grid,\n",
    "            cv=10,verbose=0,scoring='neg_mean_squared_error').fit(X_train_new,y_train_new)"
   ]
  },
  {
   "cell_type": "code",
   "execution_count": 171,
   "metadata": {},
   "outputs": [
    {
     "name": "stdout",
     "output_type": "stream",
     "text": [
      "Tuned xgb R squared:0.9350557555955521\n"
     ]
    }
   ],
   "source": [
    "r2=grid_xgb.best_estimator_.score(X_test_new,y_test_new)\n",
    "print('Tuned xgb R squared:{}'.format(r2))"
   ]
  },
  {
   "cell_type": "code",
   "execution_count": 172,
   "metadata": {},
   "outputs": [
    {
     "data": {
      "text/plain": [
       "{'eta': 0.1, 'lambda': 1, 'max_depth': 2, 'n_estimators': 150}"
      ]
     },
     "execution_count": 172,
     "metadata": {},
     "output_type": "execute_result"
    }
   ],
   "source": [
    "grid_xgb.best_params_"
   ]
  },
  {
   "cell_type": "code",
   "execution_count": 180,
   "metadata": {},
   "outputs": [
    {
     "name": "stdout",
     "output_type": "stream",
     "text": [
      "[15:56:46] WARNING: /Users/travis/build/dmlc/xgboost/src/objective/regression_obj.cu:174: reg:linear is now deprecated in favor of reg:squarederror.\n",
      "[15:56:46] WARNING: /Users/travis/build/dmlc/xgboost/src/objective/regression_obj.cu:174: reg:linear is now deprecated in favor of reg:squarederror.\n",
      "[15:56:46] WARNING: /Users/travis/build/dmlc/xgboost/src/objective/regression_obj.cu:174: reg:linear is now deprecated in favor of reg:squarederror.\n",
      "[15:56:46] WARNING: /Users/travis/build/dmlc/xgboost/src/objective/regression_obj.cu:174: reg:linear is now deprecated in favor of reg:squarederror.\n",
      "[15:56:46] WARNING: /Users/travis/build/dmlc/xgboost/src/objective/regression_obj.cu:174: reg:linear is now deprecated in favor of reg:squarederror.\n",
      "[15:56:46] WARNING: /Users/travis/build/dmlc/xgboost/src/objective/regression_obj.cu:174: reg:linear is now deprecated in favor of reg:squarederror.\n",
      "[15:56:46] WARNING: /Users/travis/build/dmlc/xgboost/src/objective/regression_obj.cu:174: reg:linear is now deprecated in favor of reg:squarederror.\n",
      "[15:56:46] WARNING: /Users/travis/build/dmlc/xgboost/src/objective/regression_obj.cu:174: reg:linear is now deprecated in favor of reg:squarederror.\n",
      "[15:56:46] WARNING: /Users/travis/build/dmlc/xgboost/src/objective/regression_obj.cu:174: reg:linear is now deprecated in favor of reg:squarederror.\n",
      "[15:56:46] WARNING: /Users/travis/build/dmlc/xgboost/src/objective/regression_obj.cu:174: reg:linear is now deprecated in favor of reg:squarederror.\n",
      "96    11.197358\n",
      "Name: test-rmse-mean, dtype: float64\n"
     ]
    }
   ],
   "source": [
    "# Create your housing DMatrix: housing_dmatrix\n",
    "housing_dmatrix = xgb.DMatrix(data=X_dummy, label=y)\n",
    "# Create the parameter dictionary for each tree: params\n",
    "params = {\"objective\":\"reg:linear\", \"max_depth\":2,'lambda':1,'eta':0.1}\n",
    "\n",
    "# Perform cross-validation with early stopping: cv_results\n",
    "cv_results = xgb.cv(dtrain=housing_dmatrix,params=params,nfold=10,\n",
    "                    seed=123,as_pandas=True,metrics='rmse',\n",
    "                    early_stopping_rounds=10,num_boost_round=150)\n",
    "\n",
    "# Print cv_results\n",
    "print((cv_results[\"test-rmse-mean\"]).tail(1))"
   ]
  },
  {
   "cell_type": "markdown",
   "metadata": {},
   "source": [
    "### AdaBoosting"
   ]
  },
  {
   "cell_type": "code",
   "execution_count": 192,
   "metadata": {},
   "outputs": [],
   "source": [
    "from sklearn.ensemble import AdaBoostRegressor"
   ]
  },
  {
   "cell_type": "code",
   "execution_count": 194,
   "metadata": {},
   "outputs": [],
   "source": [
    "dt=DecisionTreeRegressor(max_depth=1)\n",
    "ada=AdaBoostRegressor(base_estimator=dt)\n",
    "params={'n_estimators':[100,200,300],\n",
    "        'learning_rate':[0.05,0.1]}"
   ]
  },
  {
   "cell_type": "code",
   "execution_count": 196,
   "metadata": {},
   "outputs": [],
   "source": [
    "grid_ada= GridSearchCV(estimator=ada,\n",
    "                       param_grid=params, \n",
    "                       cv = 5,\n",
    "                       scoring='neg_mean_squared_error',\n",
    "                       n_jobs=-1)"
   ]
  },
  {
   "cell_type": "code",
   "execution_count": 199,
   "metadata": {},
   "outputs": [
    {
     "name": "stdout",
     "output_type": "stream",
     "text": [
      "Tuned xgb R squared:0.1667359590394082\n"
     ]
    }
   ],
   "source": [
    "grid_ada.fit(X_train,y_train)\n",
    "r2=grid_ada.best_estimator_.score(X_test,y_test)\n",
    "print('Tuned xgb R squared:{}'.format(r2))"
   ]
  },
  {
   "cell_type": "code",
   "execution_count": 200,
   "metadata": {},
   "outputs": [
    {
     "name": "stdout",
     "output_type": "stream",
     "text": [
      "Tuned xgb R squared:0.5927642743187209\n"
     ]
    }
   ],
   "source": [
    "# new sample train & test\n",
    "grid_ada.fit(X_train_new,y_train_new)\n",
    "r2=grid_ada.best_estimator_.score(X_test_new,y_test_new)\n",
    "print('Tuned xgb R squared:{}'.format(r2))"
   ]
  },
  {
   "cell_type": "markdown",
   "metadata": {},
   "source": [
    "### GradientBoosting"
   ]
  },
  {
   "cell_type": "code",
   "execution_count": 201,
   "metadata": {},
   "outputs": [],
   "source": [
    "from sklearn.ensemble import GradientBoostingRegressor"
   ]
  },
  {
   "cell_type": "code",
   "execution_count": 205,
   "metadata": {},
   "outputs": [],
   "source": [
    "params = {'learning_rate': [0.01,0.05,0.1],\n",
    "          'max_depth': [2,3,4]}\n",
    "# SGD\n",
    "sgd = GradientBoostingRegressor(n_estimators=100,\n",
    "                                 min_samples_split=20,\n",
    "                                 subsample=0.8)\n",
    "# grid search\n",
    "grid_sgd= GridSearchCV(estimator=sgd,\n",
    "                       param_grid=params, \n",
    "                       cv = 5,\n",
    "                       scoring='neg_mean_squared_error',\n",
    "                       n_jobs=-1)"
   ]
  },
  {
   "cell_type": "code",
   "execution_count": 206,
   "metadata": {},
   "outputs": [
    {
     "name": "stdout",
     "output_type": "stream",
     "text": [
      "Tuned xgb R squared:0.4476556255234999\n"
     ]
    }
   ],
   "source": [
    "grid_sgd.fit(X_train,y_train)\n",
    "r2=grid_sgd.best_estimator_.score(X_test,y_test)\n",
    "print('Tuned xgb R squared:{}'.format(r2))"
   ]
  },
  {
   "cell_type": "code",
   "execution_count": 207,
   "metadata": {},
   "outputs": [
    {
     "name": "stdout",
     "output_type": "stream",
     "text": [
      "Tuned xgb R squared:0.9503044965290598\n"
     ]
    }
   ],
   "source": [
    "grid_sgd.fit(X_train_new,y_train_new)\n",
    "r2=grid_sgd.best_estimator_.score(X_test_new,y_test_new)\n",
    "print('Tuned xgb R squared:{}'.format(r2))"
   ]
  },
  {
   "cell_type": "code",
   "execution_count": 210,
   "metadata": {},
   "outputs": [
    {
     "name": "stdout",
     "output_type": "stream",
     "text": [
      "6.512878921874469\n"
     ]
    }
   ],
   "source": [
    "y_pred=grid_sgd.best_estimator_.predict(X_test_new)\n",
    "print(mean_absolute_error(y_test_new,y_pred))"
   ]
  },
  {
   "cell_type": "markdown",
   "metadata": {},
   "source": [
    "## Model Evaluation"
   ]
  },
  {
   "cell_type": "code",
   "execution_count": 215,
   "metadata": {},
   "outputs": [
    {
     "name": "stdout",
     "output_type": "stream",
     "text": [
      "Ridge : 0.915\n",
      "Elasticnet : 0.767\n",
      "rf : 0.242\n",
      "dt : 0.147\n",
      "xgb : 0.435\n",
      "ada : 0.105\n",
      "sgd : 0.439\n"
     ]
    }
   ],
   "source": [
    "# Define the list classifiers\n",
    "classifiers=  [('Ridge', grid_lasso.best_estimator_), \n",
    "               ('Elasticnet', grid_ela.best_estimator_), \n",
    "               ('rf', grid_rf.best_estimator_),\n",
    "               ('dt',grid_dt.best_estimator_),\n",
    "               ('xgb',grid_xgb.best_estimator_),\n",
    "               ('ada',grid_ada.best_estimator_),\n",
    "               ('sgd',grid_sgd.best_estimator_)]\n",
    "\n",
    "# Iterate over the pre-defined list of classifiers\n",
    "for clf_name, clf in classifiers:    \n",
    " \n",
    "    # Fit clf to the training set\n",
    "    clf.fit(X_train, y_train)    \n",
    "   \n",
    "    # Predict y_pred\n",
    "    R2 = clf.score(X_test,y_test)\n",
    "   \n",
    "    # Evaluate clf's accuracy on the test set\n",
    "    print('{:s} : {:.3f}'.format(clf_name, R2))"
   ]
  },
  {
   "cell_type": "code",
   "execution_count": 216,
   "metadata": {},
   "outputs": [
    {
     "name": "stdout",
     "output_type": "stream",
     "text": [
      "Ridge : 0.945\n",
      "Elasticnet : 0.954\n",
      "rf : 0.923\n",
      "dt : 0.662\n",
      "xgb : 0.935\n",
      "ada : 0.608\n",
      "sgd : 0.947\n"
     ]
    }
   ],
   "source": [
    "# Iterate over the pre-defined list of classifiers\n",
    "for clf_name, clf in classifiers:    \n",
    " \n",
    "    # Fit clf to the training set\n",
    "    clf.fit(X_train_new, y_train_new)    \n",
    "   \n",
    "    # Predict y_pred\n",
    "    R2 = clf.score(X_test_new,y_test_new)\n",
    "   \n",
    "    # Evaluate clf's accuracy on the test set\n",
    "    print('{:s} : {:.3f}'.format(clf_name, R2))"
   ]
  },
  {
   "cell_type": "markdown",
   "metadata": {},
   "source": [
    "# Deep Learning Model"
   ]
  },
  {
   "cell_type": "code",
   "execution_count": 16,
   "metadata": {},
   "outputs": [
    {
     "name": "stderr",
     "output_type": "stream",
     "text": [
      "Using TensorFlow backend.\n"
     ]
    }
   ],
   "source": [
    "# Import batch normalization from keras layers\n",
    "from keras.layers import BatchNormalization\n",
    "from keras.layers import Dense\n",
    "from keras.layers import Dropout\n",
    "from keras.models import Sequential\n",
    "from keras import regularizers\n",
    "from keras.callbacks import ModelCheckpoint, EarlyStopping\n",
    "from keras.optimizers import Adam,SGD,RMSprop\n",
    "from sklearn.preprocessing import StandardScaler"
   ]
  },
  {
   "cell_type": "code",
   "execution_count": 17,
   "metadata": {},
   "outputs": [],
   "source": [
    "scaler = StandardScaler().fit(X_train)\n",
    "X_train=scaler.transform(X_train)\n",
    "X_test=scaler.transform(X_test)"
   ]
  },
  {
   "cell_type": "code",
   "execution_count": 18,
   "metadata": {},
   "outputs": [],
   "source": [
    "opt = Adam(lr = 0.01)\n",
    "\n",
    "# Build your deep network\n",
    "model = Sequential()\n",
    "model.add(Dense(150, input_shape=(3,), activation='relu', kernel_initializer='normal'))\n",
    "model.add(BatchNormalization()) #BN\n",
    "model.add(Dense(150, activation='relu', kernel_initializer='normal'))\n",
    "model.add(BatchNormalization()) #BN\n",
    "model.add(Dense(1))\n",
    "model.compile(optimizer = opt, loss = 'mse')"
   ]
  },
  {
   "cell_type": "code",
   "execution_count": 19,
   "metadata": {},
   "outputs": [
    {
     "data": {
      "text/plain": [
       "<keras.callbacks.callbacks.History at 0x1362b1b10>"
      ]
     },
     "execution_count": 19,
     "metadata": {},
     "output_type": "execute_result"
    }
   ],
   "source": [
    "# Early stop on validation accuracy\n",
    "early_stop_monitor = EarlyStopping(patience = 10,monitor='val_loss',restore_best_weights=True)\n",
    "# Save the best model as best_banknote_model.hdf5\n",
    "model.fit(X_train,y_train,epochs=200,validation_data=(X_test, y_test),\n",
    "                  callbacks=[early_stop_monitor],verbose=False,batch_size=64)\n"
   ]
  },
  {
   "cell_type": "code",
   "execution_count": 20,
   "metadata": {},
   "outputs": [],
   "source": [
    "from sklearn.metrics import r2_score\n",
    "from sklearn.metrics import mean_absolute_error"
   ]
  },
  {
   "cell_type": "code",
   "execution_count": 21,
   "metadata": {},
   "outputs": [
    {
     "name": "stdout",
     "output_type": "stream",
     "text": [
      "Tuned R squared:0.9117498307906023,      Tuned Mean Absolute Error:7.034683704376221\n"
     ]
    }
   ],
   "source": [
    "y_pred=model.predict(X_test)\n",
    "mae=mean_absolute_error(y_test,y_pred)\n",
    "r2=r2_score(y_test,y_pred)\n",
    "print('Tuned R squared:{},\\\n",
    "      Tuned Mean Absolute Error:{}'.format(r2,mae))"
   ]
  }
 ],
 "metadata": {
  "kernelspec": {
   "display_name": "Python 3",
   "language": "python",
   "name": "python3"
  },
  "language_info": {
   "codemirror_mode": {
    "name": "ipython",
    "version": 3
   },
   "file_extension": ".py",
   "mimetype": "text/x-python",
   "name": "python",
   "nbconvert_exporter": "python",
   "pygments_lexer": "ipython3",
   "version": "3.7.6"
  }
 },
 "nbformat": 4,
 "nbformat_minor": 4
}
